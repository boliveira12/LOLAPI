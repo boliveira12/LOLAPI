{
 "cells": [
  {
   "cell_type": "code",
   "execution_count": 2,
   "metadata": {},
   "outputs": [],
   "source": [
    "from dotenv import load_dotenv\n",
    "import os\n",
    "import pygsheets\n",
    "import requests\n",
    "import pandas as pd\n",
    "\n",
    "load_dotenv()\n",
    "\n",
    "api_key = os.environ.get('riot_api_key')"
   ]
  },
  {
   "cell_type": "code",
   "execution_count": 3,
   "metadata": {},
   "outputs": [
    {
     "data": {
      "text/plain": [
       "'RGAPI-aa50754f-76ed-46f2-bfa2-962b52806210'"
      ]
     },
     "execution_count": 3,
     "metadata": {},
     "output_type": "execute_result"
    }
   ],
   "source": [
    "api_key = os.environ.get('riot_api_key')\n",
    "api_key"
   ]
  },
  {
   "cell_type": "code",
   "execution_count": 4,
   "metadata": {},
   "outputs": [],
   "source": [
    "service_account = pygsheets.authorize(\n",
    "    service_account_file='JSONS\\spreadsheet-automator-419713-f0c339d68def.json')\n",
    "\n",
    "sheet = service_account.open_by_url(\n",
    "    'https://docs.google.com/spreadsheets/d/1GoBz-6avCyXPqJeO6qz_hxrhPPW_tNPKcIp_G6dKAQ4/edit?usp=sharing')"
   ]
  },
  {
   "cell_type": "code",
   "execution_count": 5,
   "metadata": {},
   "outputs": [],
   "source": [
    "from urllib import response\n",
    "\n",
    "\n",
    "def get_puuid(summonerId=None, gameName=None, tagLine=None, region='br1'):\n",
    "    if summonerId is not None:\n",
    "        # Pega o puuid pelo summonerId ou pela gameTag+tagLine\n",
    "\n",
    "        root_url = f'https://{region}.api.riotgames.com'\n",
    "        endpoint = '/lol/summoner/v4/summoners/'\n",
    "        response = requests.get(root_url+endpoint+summonerId+'?api_key='+api_key)\n",
    "        return response.json()['puuid']\n",
    "    else:\n",
    "        root_url = f'https://{region}.api.riotgames.com'\n",
    "        endpoint = f'riot/account/v1/accounts/by-riot-id/{gameName}/{tagLine}'\n",
    "        response = requests.get(root_url+endpoint+'?api_key='+api_key)\n",
    "        return response.json()['puuid']\n",
    "\n",
    "\n",
    "def get_idtag_from_puuid(puuid=None, region='br1'):\n",
    "    # Pega o riot_id e o id_tag pelo puuid\n",
    "\n",
    "    root_url = f'https://{region}.api.riotgames.com'\n",
    "    endpoint = 'riot/account/v1/accounts/by-puuid/'\n",
    "    response = requests.get(root_url+endpoint+puuid+'?api_key='+api_key)\n",
    "\n",
    "    id = {\n",
    "        'gameName': response.json()['gameName'],\n",
    "        'tagLine': response.json()['tagLine']\n",
    "    }\n",
    "\n",
    "    return id\n",
    "\n",
    "\n",
    "def get_ladder(top=None, region='br1'):\n",
    "    #Pega a ladder top 300 ou mais\n",
    "    root = f'https://{region}.api.riotgames.com'\n",
    "    chall = '/lol/league/v4/challengerleagues/by-queue/RANKED_SOLO_5x5'\n",
    "    gm = '/lol/league/v4/grandmasterleagues/by-queue/RANKED_SOLO_5x5'\n",
    "    master = '/lol/league/v4/masterleagues/by-queue/RANKED_SOLO_5x5'\n",
    "\n",
    "    chall_response = requests.get(root+chall+'?api_key='+api_key)\n",
    "    chall_df = pd.DataFrame(chall_response.json()['entries']).sort_values(\n",
    "        'leaguePoints', ascending=False).reset_index(drop=True)\n",
    "    gm_df = pd.DataFrame()\n",
    "    master_df = pd.DataFrame()\n",
    "\n",
    "    if top > 300:\n",
    "        gm_response = requests.get(root+gm+'?api_key='+api_key)\n",
    "        gm_df = pd.DataFrame(gm_response.json()['entries']).sort_values(\n",
    "        'leaguePoints', ascending=False).reset_index(drop=True)\n",
    "    if top > 1000:\n",
    "        master_response = requests.get(root+master+'?api_key='+api_key)\n",
    "        master_df = pd.DataFrame(master_response.json()['entries']).sort_values(\n",
    "        'leaguePoints', ascending=False).reset_index(drop=True)\n",
    "\n",
    "    ladder = pd.concat([chall_df, gm_df, master_df]).reset_index(drop=True)[:top]\n",
    "    ladder = ladder.drop(columns='rank').reset_index(\n",
    "        drop=False).rename(columns={'index': 'rank'})\n",
    "    ladder['rank'] += 1\n",
    "\n",
    "    return ladder\n",
    "\n",
    "def get_match_history(region=None, puuid=None, count=20):\n",
    "    #Pega o historico de 20 partidas \n",
    "    root = f'https://{region}.api.riotgames.com'\n",
    "    endpoint = f'/lol/match/v5/matches/by-puuid/{puuid}/ids'\n",
    "    count = f'?start=0&count={count}&'\n",
    "    response = requests.get(root+endpoint+count+'&api_key='+api_key)\n",
    "\n",
    "    return response.json()\n",
    "\n",
    "def get_match(region=None, matchId=None):\n",
    "    #Pega informações sobre uma partida especifica\n",
    "    root = f'https://{region}.api.riotgames.com'\n",
    "    endpoint = f'/lol/match/v5/matches/{matchId}'\n",
    "    response = requests.get(root+endpoint+'?api_key='+api_key)\n",
    "\n",
    "    return response.json()"
   ]
  },
  {
   "cell_type": "code",
   "execution_count": 6,
   "metadata": {},
   "outputs": [
    {
     "data": {
      "text/plain": [
       "['BR1_2924848006',\n",
       " 'BR1_2924825088',\n",
       " 'BR1_2924797780',\n",
       " 'BR1_2924764078',\n",
       " 'BR1_2924729032',\n",
       " 'BR1_2924694209',\n",
       " 'BR1_2922425243',\n",
       " 'BR1_2918466941',\n",
       " 'BR1_2918259478',\n",
       " 'BR1_2918216826',\n",
       " 'BR1_2918181366',\n",
       " 'BR1_2918156928',\n",
       " 'BR1_2918122030',\n",
       " 'BR1_2918082594',\n",
       " 'BR1_2918071191',\n",
       " 'BR1_2918041908',\n",
       " 'BR1_2918029938',\n",
       " 'BR1_2917801140',\n",
       " 'BR1_2917762246',\n",
       " 'BR1_2917740062']"
      ]
     },
     "execution_count": 6,
     "metadata": {},
     "output_type": "execute_result"
    }
   ],
   "source": [
    "get_match_history(region='americas', puuid='nLcOi3gpM4WUybwDjCXHKeW1qDLehxlGOxgRyxpWi9f7HxfAAFEwqlCXFsM-y0J5MqyqsY8y79xg2g')"
   ]
  },
  {
   "cell_type": "code",
   "execution_count": 7,
   "metadata": {},
   "outputs": [],
   "source": [
    "game = get_match(region='americas', matchId='BR1_2918466941')"
   ]
  },
  {
   "cell_type": "code",
   "execution_count": 8,
   "metadata": {},
   "outputs": [
    {
     "data": {
      "text/plain": [
       "'nLcOi3gpM4WUybwDjCXHKeW1qDLehxlGOxgRyxpWi9f7HxfAAFEwqlCXFsM-y0J5MqyqsY8y79xg2g'"
      ]
     },
     "execution_count": 8,
     "metadata": {},
     "output_type": "execute_result"
    }
   ],
   "source": [
    "get_puuid(summonerId='g250Cv7oaxE9gb-eysxOwyasvT7kJje3uMDDOJsiVnhqabg')"
   ]
  },
  {
   "cell_type": "markdown",
   "metadata": {
    "slideshow": {
     "slide_type": "slide"
    }
   },
   "source": [
    "----------------------------------------\n",
    "Informações que quero retirar da partida:\n",
    "Match > MetadataDto:\n",
    "- matchId\n",
    "- participants\t\n",
    "\n",
    "Match > InfoDto:\n",
    "- endOfGameResult\n",
    "- gameCreation\n",
    "- gameDuration\n",
    "- gameEndTimestamp\n",
    "- gameVersion as PATCH\n",
    "\n",
    "Match > InfoDto > ParticipantDto:\n",
    "- assists\n",
    "- champLevel\n",
    "- championName\n",
    "- damageDealtToBuildings\n",
    "- damageDealtToObjectives\n",
    "- damageDealtToTurrets\n",
    "- deaths\n",
    "- detectorWardsPlaced\n",
    "- firstTowerKill\t\n",
    "- firstBloodKill\n",
    "- goldEarned\n",
    "- inhibitorKills\n",
    "- gameEndedInSurrender\n",
    "- gameEndedInEarlySurrender\n",
    "- item0\t\n",
    "- item1\t\n",
    "- item2\t\n",
    "- item3\t\n",
    "- item4\t\n",
    "- item5\t\n",
    "- item6\n",
    "- neutralMinionsKilled\n",
    "- objectivesStolen\n",
    "- participantId\n",
    "- puuid\n",
    "- riotIdName\n",
    "- riotIdTagline\n",
    "- summoner1Id\n",
    "- summoner2Id\n",
    "- summonerId\n",
    "- summonerName\n",
    "- totalDamageDealtToChampions\n",
    "- totalDamageShieldedOnTeammates\n",
    "- totalDamageTaken\n",
    "- totalHealsOnTeammates\n",
    "- turretKills\n",
    "- turretsLost\n",
    "- visionScore\n",
    "- wardsKilled\n",
    "- wardsPlaced\n",
    "- win\n",
    "\n",
    "Match > InfoDto > ParticipantDto > PerksDto > PerksStatsDto:\n",
    "- defense\n",
    "- flex\n",
    "- offense\n",
    "\n",
    "Match > InfoDto > ParticipantDto > PerksDto > PerksStyleDto:\n",
    "- style\n",
    "\n",
    "Match > InfoDto > ParticipantDto > PerksDto > PerksStyleDto > PerkStyleSelectionDto: \n",
    "- perk\t\n",
    "- var1\t\n",
    "- var2\t\n",
    "- var3\n",
    "\n",
    "Match > TeamDto > BanDto:\n",
    "- championId\n",
    "\n",
    "Match > TeamDto > ObjectivesDto:\n",
    "- baron\t\t\n",
    "- champion\t\t\n",
    "- dragon\t\t\n",
    "- inhibitor\t\t\n",
    "- riftHerald\t\t\n",
    "- tower\t"
   ]
  },
  {
   "cell_type": "code",
   "execution_count": 33,
   "metadata": {},
   "outputs": [
    {
     "ename": "KeyError",
     "evalue": "'riotIdName'",
     "output_type": "error",
     "traceback": [
      "\u001b[1;31m---------------------------------------------------------------------------\u001b[0m",
      "\u001b[1;31mKeyError\u001b[0m                                  Traceback (most recent call last)",
      "Cell \u001b[1;32mIn[33], line 40\u001b[0m\n\u001b[0;32m     38\u001b[0m objectiveStolen \u001b[38;5;241m=\u001b[39m player[\u001b[38;5;124m'\u001b[39m\u001b[38;5;124mobjectivesStolen\u001b[39m\u001b[38;5;124m'\u001b[39m]\n\u001b[0;32m     39\u001b[0m participantId \u001b[38;5;241m=\u001b[39m player[\u001b[38;5;124m'\u001b[39m\u001b[38;5;124mparticipantId\u001b[39m\u001b[38;5;124m'\u001b[39m]\n\u001b[1;32m---> 40\u001b[0m riotIdName \u001b[38;5;241m=\u001b[39m \u001b[43mplayer\u001b[49m\u001b[43m[\u001b[49m\u001b[38;5;124;43m'\u001b[39;49m\u001b[38;5;124;43mriotIdName\u001b[39;49m\u001b[38;5;124;43m'\u001b[39;49m\u001b[43m]\u001b[49m\n\u001b[0;32m     41\u001b[0m \u001b[38;5;66;03m#idTagLine = player['riotIdTagLine']\u001b[39;00m\n\u001b[0;32m     42\u001b[0m summoner1Id \u001b[38;5;241m=\u001b[39m player[\u001b[38;5;124m'\u001b[39m\u001b[38;5;124msummoner1Id\u001b[39m\u001b[38;5;124m'\u001b[39m]\n",
      "\u001b[1;31mKeyError\u001b[0m: 'riotIdName'"
     ]
    }
   ],
   "source": [
    "metadata = game['metadata']\n",
    "info = game['info']\n",
    "players = info['participants']\n",
    "endGame = info['endOfGameResult']\n",
    "gameCreation = info['gameCreation']\n",
    "gameDuration = info['gameDuration']\n",
    "gameEndTimestamp = info['gameEndTimestamp']\n",
    "patch = info['gameVersion']\n",
    "\n",
    "matchid = metadata['matchId']\n",
    "\n",
    "teams = info['teams']\n",
    "\n",
    "\n",
    "for player in players:\n",
    "  assists = player['assists']\n",
    "  champLevel = player['champLevel']\n",
    "  champName = player['championName']\n",
    "  damageToBuilding = player['damageDealtToBuildings']\n",
    "  damageToObjectives = player['damageDealtToObjectives']\n",
    "  damageToTurrets = player['damageDealtToTurrets']\n",
    "  deaths = player['deaths']\n",
    "  wardsPlaced = player['detectorWardsPlaced']\n",
    "  firstTower = player['firstTowerKill']\n",
    "  firstBlood = player['firstBloodKill']\n",
    "  goldEarned = player['goldEarned']\n",
    "  inhibitors = player['inhibitorKills']\n",
    "  surrender = player['gameEndedInSurrender']\n",
    "  earlySurrender = player['gameEndedInEarlySurrender']\n",
    "  item0 = player['item0']\n",
    "  item1 = player['item1']\n",
    "  item2 = player['item2']\n",
    "  item3 = player['item3']\n",
    "  item4 = player['item4']\n",
    "  item5 = player['item5']\n",
    "  item6 = player['item6']\n",
    "  minionsKilled = player['neutralMinionsKilled']\n",
    "  objectiveStolen = player['objectivesStolen']\n",
    "  participantId = player['participantId']\n",
    "  riotIdName = player['riotIdName']\n",
    "  #idTagLine = player['riotIdTagLine']\n",
    "  summoner1Id = player['summoner1Id']\n",
    "  summoner2Id = player['summoner2Id']\n",
    "  summonerId = player['summonerId']\n",
    "  damageToChamps = player['totalDamageDealtToChampions']\n",
    "  damgeOnShield = player['totalDamageShieldedOnTeammates']\n",
    "  damageTaken = player['totalDamageTaken']\n",
    "  heal = player['totalHealsOnTeammates']\n",
    "  turretKills = player['turretKills']\n",
    "  turretLosts = player['turretsLost']\n",
    "  visionScore = player['visionScore']\n",
    "  wardsKilled = player['wardsKilled']\n",
    "  wardsPlaced = player['wardsPlaced']\n",
    "  win = player['win']\n",
    "  \n",
    "\n",
    "  perks = player['perks']\n",
    "  stats = perks['statPerks']\n",
    "  defense = stats['defense']\n",
    "  offense = stats['offense']\n",
    "  flex = stats['flex']\n",
    "\n",
    "  styles = perks['styles']\n",
    "  \n",
    "\n",
    "  primary_style = styles[0]\n",
    "  secondary_style = styles[1]\n",
    "\n",
    "for team in teams:\n",
    "  #bans = team['bans']\n",
    "\n",
    "  if team['teamId'] == player['teamId']:\n",
    "    objectives = team['objectives']\n",
    "    baron = objectives['baron']\n",
    "    dragon = objectives['dragon']\n",
    "    champion = objectives['champion']\n",
    "    inhibitor = objectives['inhibitor']\n",
    "    riftHerald = objectives['riftHerald']\n",
    "    tower = objectives['tower']\n",
    "    grubs = objectives['horde']\n"
   ]
  },
  {
   "cell_type": "code",
   "execution_count": 38,
   "metadata": {},
   "outputs": [
    {
     "name": "stdout",
     "output_type": "stream",
     "text": [
      "{'first': False, 'kills': 9}\n",
      "{'first': True, 'kills': 30}\n",
      "{'first': False, 'kills': 0}\n",
      "{'first': True, 'kills': 2}\n",
      "{'first': True, 'kills': 2}\n",
      "{'first': True, 'kills': 2}\n"
     ]
    }
   ],
   "source": [
    "print(tower)\n",
    "print(champion)\n",
    "print(riftHerald)\n",
    "print(grubs)\n",
    "print(baron)\n",
    "print(dragon)"
   ]
  },
  {
   "cell_type": "code",
   "execution_count": 39,
   "metadata": {},
   "outputs": [
    {
     "ename": "TypeError",
     "evalue": "list indices must be integers or slices, not str",
     "output_type": "error",
     "traceback": [
      "\u001b[1;31m---------------------------------------------------------------------------\u001b[0m",
      "\u001b[1;31mTypeError\u001b[0m                                 Traceback (most recent call last)",
      "Cell \u001b[1;32mIn[39], line 1\u001b[0m\n\u001b[1;32m----> 1\u001b[0m death \u001b[38;5;241m=\u001b[39m \u001b[43mgame\u001b[49m\u001b[43m[\u001b[49m\u001b[38;5;124;43m'\u001b[39;49m\u001b[38;5;124;43minfo\u001b[39;49m\u001b[38;5;124;43m'\u001b[39;49m\u001b[43m]\u001b[49m\u001b[43m[\u001b[49m\u001b[38;5;124;43m'\u001b[39;49m\u001b[38;5;124;43mparticipants\u001b[39;49m\u001b[38;5;124;43m'\u001b[39;49m\u001b[43m]\u001b[49m\u001b[43m[\u001b[49m\u001b[38;5;124;43m'\u001b[39;49m\u001b[38;5;124;43mdeaths\u001b[39;49m\u001b[38;5;124;43m'\u001b[39;49m\u001b[43m]\u001b[49m\n",
      "\u001b[1;31mTypeError\u001b[0m: list indices must be integers or slices, not str"
     ]
    }
   ],
   "source": [
    "death = game['info']['participants']['']\n",
    "print(death)"
   ]
  }
 ],
 "metadata": {
  "kernelspec": {
   "display_name": "venv",
   "language": "python",
   "name": "python3"
  },
  "language_info": {
   "codemirror_mode": {
    "name": "ipython",
    "version": 3
   },
   "file_extension": ".py",
   "mimetype": "text/x-python",
   "name": "python",
   "nbconvert_exporter": "python",
   "pygments_lexer": "ipython3",
   "version": "3.10.11"
  }
 },
 "nbformat": 4,
 "nbformat_minor": 2
}
